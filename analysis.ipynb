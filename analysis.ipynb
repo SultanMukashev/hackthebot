{
 "cells": [
  {
   "cell_type": "code",
   "execution_count": 56,
   "metadata": {},
   "outputs": [
    {
     "data": {
      "text/html": [
       "<div>\n",
       "<style scoped>\n",
       "    .dataframe tbody tr th:only-of-type {\n",
       "        vertical-align: middle;\n",
       "    }\n",
       "\n",
       "    .dataframe tbody tr th {\n",
       "        vertical-align: top;\n",
       "    }\n",
       "\n",
       "    .dataframe thead th {\n",
       "        text-align: right;\n",
       "    }\n",
       "</style>\n",
       "<table border=\"1\" class=\"dataframe\">\n",
       "  <thead>\n",
       "    <tr style=\"text-align: right;\">\n",
       "      <th></th>\n",
       "      <th>admin_id</th>\n",
       "      <th>name</th>\n",
       "    </tr>\n",
       "  </thead>\n",
       "  <tbody>\n",
       "    <tr>\n",
       "      <th>0</th>\n",
       "      <td>1</td>\n",
       "      <td>Robyn Moore</td>\n",
       "    </tr>\n",
       "    <tr>\n",
       "      <th>1</th>\n",
       "      <td>2</td>\n",
       "      <td>Ashley Mitchell</td>\n",
       "    </tr>\n",
       "    <tr>\n",
       "      <th>2</th>\n",
       "      <td>3</td>\n",
       "      <td>Jonathan Cowan</td>\n",
       "    </tr>\n",
       "    <tr>\n",
       "      <th>3</th>\n",
       "      <td>4</td>\n",
       "      <td>Jason Weeks</td>\n",
       "    </tr>\n",
       "    <tr>\n",
       "      <th>4</th>\n",
       "      <td>5</td>\n",
       "      <td>Stephanie Cain</td>\n",
       "    </tr>\n",
       "  </tbody>\n",
       "</table>\n",
       "</div>"
      ],
      "text/plain": [
       "   admin_id             name\n",
       "0         1      Robyn Moore\n",
       "1         2  Ashley Mitchell\n",
       "2         3   Jonathan Cowan\n",
       "3         4      Jason Weeks\n",
       "4         5   Stephanie Cain"
      ]
     },
     "execution_count": 56,
     "metadata": {},
     "output_type": "execute_result"
    }
   ],
   "source": [
    "import pandas as pd\n",
    "\n",
    "df = pd.read_csv(r\"db_files\\admins.csv\")\n",
    "df"
   ]
  },
  {
   "cell_type": "code",
   "execution_count": 57,
   "metadata": {},
   "outputs": [],
   "source": [
    "users_df = pd.read_csv(r\"db_files\\users.csv\")\n",
    "household_df = pd.read_csv(r\"db_files\\households.csv\")"
   ]
  },
  {
   "cell_type": "code",
   "execution_count": 58,
   "metadata": {},
   "outputs": [],
   "source": [
    "total_users_registered = users_df.shape[0]"
   ]
  },
  {
   "cell_type": "code",
   "execution_count": 59,
   "metadata": {},
   "outputs": [
    {
     "data": {
      "text/html": [
       "<div>\n",
       "<style scoped>\n",
       "    .dataframe tbody tr th:only-of-type {\n",
       "        vertical-align: middle;\n",
       "    }\n",
       "\n",
       "    .dataframe tbody tr th {\n",
       "        vertical-align: top;\n",
       "    }\n",
       "\n",
       "    .dataframe thead th {\n",
       "        text-align: right;\n",
       "    }\n",
       "</style>\n",
       "<table border=\"1\" class=\"dataframe\">\n",
       "  <thead>\n",
       "    <tr style=\"text-align: right;\">\n",
       "      <th></th>\n",
       "      <th>id</th>\n",
       "      <th>iin</th>\n",
       "      <th>name</th>\n",
       "      <th>phone</th>\n",
       "      <th>bonus_amount</th>\n",
       "      <th>household_id</th>\n",
       "      <th>verified</th>\n",
       "      <th>timestamp</th>\n",
       "      <th>nearest_point</th>\n",
       "      <th>n_longitude</th>\n",
       "      <th>n_latitude</th>\n",
       "    </tr>\n",
       "  </thead>\n",
       "  <tbody>\n",
       "    <tr>\n",
       "      <th>90</th>\n",
       "      <td>91</td>\n",
       "      <td>839019891844</td>\n",
       "      <td>Mr. Bradley Sandoval</td>\n",
       "      <td>001-408-243-9609</td>\n",
       "      <td>500</td>\n",
       "      <td>162</td>\n",
       "      <td>1</td>\n",
       "      <td>2025-02-16 03:45:29.494792</td>\n",
       "      <td>165 Melissa Radial Suite 477, Melissafurt, AZ ...</td>\n",
       "      <td>76.915666</td>\n",
       "      <td>43.261683</td>\n",
       "    </tr>\n",
       "    <tr>\n",
       "      <th>208</th>\n",
       "      <td>209</td>\n",
       "      <td>171023723212</td>\n",
       "      <td>Dale Gonzalez</td>\n",
       "      <td>(289)832-5207x36674</td>\n",
       "      <td>500</td>\n",
       "      <td>154</td>\n",
       "      <td>1</td>\n",
       "      <td>2025-02-16 03:45:29.494792</td>\n",
       "      <td>71663 Whitaker Loaf Suite 154, Rodriguezfurt, ...</td>\n",
       "      <td>76.987707</td>\n",
       "      <td>43.216539</td>\n",
       "    </tr>\n",
       "    <tr>\n",
       "      <th>397</th>\n",
       "      <td>398</td>\n",
       "      <td>763911020133</td>\n",
       "      <td>Frederick Chen</td>\n",
       "      <td>641-713-9428x0204</td>\n",
       "      <td>500</td>\n",
       "      <td>93</td>\n",
       "      <td>1</td>\n",
       "      <td>2025-02-16 03:45:29.494792</td>\n",
       "      <td>31107 Rice Trail, Amandafurt, MA 96257</td>\n",
       "      <td>76.847936</td>\n",
       "      <td>43.255744</td>\n",
       "    </tr>\n",
       "    <tr>\n",
       "      <th>945</th>\n",
       "      <td>946</td>\n",
       "      <td>337866298127</td>\n",
       "      <td>Amy Holmes</td>\n",
       "      <td>(713)800-6522x228</td>\n",
       "      <td>499</td>\n",
       "      <td>154</td>\n",
       "      <td>1</td>\n",
       "      <td>2025-02-16 03:45:29.494792</td>\n",
       "      <td>23735 Johnson Parks Apt. 183, Christianport, W...</td>\n",
       "      <td>76.739501</td>\n",
       "      <td>43.215736</td>\n",
       "    </tr>\n",
       "    <tr>\n",
       "      <th>804</th>\n",
       "      <td>805</td>\n",
       "      <td>949423418167</td>\n",
       "      <td>Deborah Johnson</td>\n",
       "      <td>639.911.2882x329</td>\n",
       "      <td>499</td>\n",
       "      <td>49</td>\n",
       "      <td>1</td>\n",
       "      <td>2025-02-16 03:45:29.494792</td>\n",
       "      <td>135 Young Wall Suite 875, Russellfort, SD 85990</td>\n",
       "      <td>76.963667</td>\n",
       "      <td>43.349662</td>\n",
       "    </tr>\n",
       "    <tr>\n",
       "      <th>...</th>\n",
       "      <td>...</td>\n",
       "      <td>...</td>\n",
       "      <td>...</td>\n",
       "      <td>...</td>\n",
       "      <td>...</td>\n",
       "      <td>...</td>\n",
       "      <td>...</td>\n",
       "      <td>...</td>\n",
       "      <td>...</td>\n",
       "      <td>...</td>\n",
       "      <td>...</td>\n",
       "    </tr>\n",
       "    <tr>\n",
       "      <th>744</th>\n",
       "      <td>745</td>\n",
       "      <td>906982076737</td>\n",
       "      <td>Kathleen Gallagher</td>\n",
       "      <td>001-730-375-9228x90223</td>\n",
       "      <td>450</td>\n",
       "      <td>29</td>\n",
       "      <td>1</td>\n",
       "      <td>2025-02-16 03:45:29.494792</td>\n",
       "      <td>135 Young Wall Suite 875, Russellfort, SD 85990</td>\n",
       "      <td>76.963667</td>\n",
       "      <td>43.349662</td>\n",
       "    </tr>\n",
       "    <tr>\n",
       "      <th>249</th>\n",
       "      <td>250</td>\n",
       "      <td>436939902529</td>\n",
       "      <td>Megan Gutierrez</td>\n",
       "      <td>2315999285</td>\n",
       "      <td>450</td>\n",
       "      <td>77</td>\n",
       "      <td>1</td>\n",
       "      <td>2025-02-16 03:45:29.494792</td>\n",
       "      <td>796 Jillian Harbors Suite 136, Hoodside, NH 39338</td>\n",
       "      <td>76.879602</td>\n",
       "      <td>43.182982</td>\n",
       "    </tr>\n",
       "    <tr>\n",
       "      <th>203</th>\n",
       "      <td>204</td>\n",
       "      <td>248349469311</td>\n",
       "      <td>Derrick Lara</td>\n",
       "      <td>404.526.0792</td>\n",
       "      <td>450</td>\n",
       "      <td>163</td>\n",
       "      <td>1</td>\n",
       "      <td>2025-02-16 03:45:29.494792</td>\n",
       "      <td>089 Wallace Prairie Suite 875, Stevensshire, N...</td>\n",
       "      <td>76.719729</td>\n",
       "      <td>43.364251</td>\n",
       "    </tr>\n",
       "    <tr>\n",
       "      <th>637</th>\n",
       "      <td>638</td>\n",
       "      <td>902752529159</td>\n",
       "      <td>Amber Wilson MD</td>\n",
       "      <td>812.576.4354</td>\n",
       "      <td>449</td>\n",
       "      <td>168</td>\n",
       "      <td>1</td>\n",
       "      <td>2025-02-16 03:45:29.494792</td>\n",
       "      <td>21304 Bennett Prairie Apt. 344, Alisonville, M...</td>\n",
       "      <td>76.633343</td>\n",
       "      <td>43.243103</td>\n",
       "    </tr>\n",
       "    <tr>\n",
       "      <th>604</th>\n",
       "      <td>605</td>\n",
       "      <td>478481605178</td>\n",
       "      <td>Jennifer Weaver</td>\n",
       "      <td>379-749-5254x119</td>\n",
       "      <td>449</td>\n",
       "      <td>47</td>\n",
       "      <td>1</td>\n",
       "      <td>2025-02-16 03:45:29.494792</td>\n",
       "      <td>4474 Vazquez Mission Suite 978, Georgetown, DE...</td>\n",
       "      <td>76.808743</td>\n",
       "      <td>43.248734</td>\n",
       "    </tr>\n",
       "  </tbody>\n",
       "</table>\n",
       "<p>100 rows × 11 columns</p>\n",
       "</div>"
      ],
      "text/plain": [
       "      id           iin                  name                   phone  \\\n",
       "90    91  839019891844  Mr. Bradley Sandoval        001-408-243-9609   \n",
       "208  209  171023723212         Dale Gonzalez     (289)832-5207x36674   \n",
       "397  398  763911020133        Frederick Chen       641-713-9428x0204   \n",
       "945  946  337866298127            Amy Holmes       (713)800-6522x228   \n",
       "804  805  949423418167       Deborah Johnson        639.911.2882x329   \n",
       "..   ...           ...                   ...                     ...   \n",
       "744  745  906982076737    Kathleen Gallagher  001-730-375-9228x90223   \n",
       "249  250  436939902529       Megan Gutierrez              2315999285   \n",
       "203  204  248349469311          Derrick Lara            404.526.0792   \n",
       "637  638  902752529159       Amber Wilson MD            812.576.4354   \n",
       "604  605  478481605178       Jennifer Weaver        379-749-5254x119   \n",
       "\n",
       "     bonus_amount  household_id  verified                   timestamp  \\\n",
       "90            500           162         1  2025-02-16 03:45:29.494792   \n",
       "208           500           154         1  2025-02-16 03:45:29.494792   \n",
       "397           500            93         1  2025-02-16 03:45:29.494792   \n",
       "945           499           154         1  2025-02-16 03:45:29.494792   \n",
       "804           499            49         1  2025-02-16 03:45:29.494792   \n",
       "..            ...           ...       ...                         ...   \n",
       "744           450            29         1  2025-02-16 03:45:29.494792   \n",
       "249           450            77         1  2025-02-16 03:45:29.494792   \n",
       "203           450           163         1  2025-02-16 03:45:29.494792   \n",
       "637           449           168         1  2025-02-16 03:45:29.494792   \n",
       "604           449            47         1  2025-02-16 03:45:29.494792   \n",
       "\n",
       "                                         nearest_point  n_longitude  \\\n",
       "90   165 Melissa Radial Suite 477, Melissafurt, AZ ...    76.915666   \n",
       "208  71663 Whitaker Loaf Suite 154, Rodriguezfurt, ...    76.987707   \n",
       "397             31107 Rice Trail, Amandafurt, MA 96257    76.847936   \n",
       "945  23735 Johnson Parks Apt. 183, Christianport, W...    76.739501   \n",
       "804    135 Young Wall Suite 875, Russellfort, SD 85990    76.963667   \n",
       "..                                                 ...          ...   \n",
       "744    135 Young Wall Suite 875, Russellfort, SD 85990    76.963667   \n",
       "249  796 Jillian Harbors Suite 136, Hoodside, NH 39338    76.879602   \n",
       "203  089 Wallace Prairie Suite 875, Stevensshire, N...    76.719729   \n",
       "637  21304 Bennett Prairie Apt. 344, Alisonville, M...    76.633343   \n",
       "604  4474 Vazquez Mission Suite 978, Georgetown, DE...    76.808743   \n",
       "\n",
       "     n_latitude  \n",
       "90    43.261683  \n",
       "208   43.216539  \n",
       "397   43.255744  \n",
       "945   43.215736  \n",
       "804   43.349662  \n",
       "..          ...  \n",
       "744   43.349662  \n",
       "249   43.182982  \n",
       "203   43.364251  \n",
       "637   43.243103  \n",
       "604   43.248734  \n",
       "\n",
       "[100 rows x 11 columns]"
      ]
     },
     "execution_count": 59,
     "metadata": {},
     "output_type": "execute_result"
    }
   ],
   "source": [
    "top_100_users = users_df.sort_values(by='bonus_amount', ascending=False).head(100)\n",
    "top_100_users"
   ]
  },
  {
   "cell_type": "code",
   "execution_count": 60,
   "metadata": {},
   "outputs": [],
   "source": [
    "import matplotlib.pyplot as plt\n",
    "import seaborn as sns\n",
    "\n",
    "# Merge users with household data\n",
    "merged_df = users_df.merge(household_df, left_on='household_id', right_on='id', suffixes=('_user', '_household'))\n",
    "users_df['timestamp'] = pd.to_datetime(users_df['timestamp'])"
   ]
  },
  {
   "cell_type": "markdown",
   "metadata": {},
   "source": [
    "# People per household"
   ]
  },
  {
   "cell_type": "code",
   "execution_count": 61,
   "metadata": {},
   "outputs": [
    {
     "data": {
      "image/png": "[encoded data removed]",
      "text/plain": [
       "<Figure size 800x500 with 1 Axes>"
      ]
     },
     "metadata": {},
     "output_type": "display_data"
    }
   ],
   "source": [
    "household_counts = merged_df.groupby('household_id')['id_user'].count()\n",
    "household_counts_df = household_counts.value_counts().sort_index()\n",
    "plt.figure(figsize=(8, 5))\n",
    "plt.bar(household_counts_df.index, household_counts_df.values)\n",
    "plt.xlabel('Number of People in Household')\n",
    "plt.ylabel('Count of Households')\n",
    "plt.title('Distribution of People per Household')\n",
    "plt.grid()\n",
    "plt.show()"
   ]
  },
  {
   "cell_type": "markdown",
   "metadata": {},
   "source": [
    "# Most common household structures"
   ]
  },
  {
   "cell_type": "code",
   "execution_count": 62,
   "metadata": {},
   "outputs": [
    {
     "data": {
      "image/png": "[encoded data removed]",
      "text/plain": [
       "<Figure size 600x400 with 1 Axes>"
      ]
     },
     "metadata": {},
     "output_type": "display_data"
    }
   ],
   "source": [
    "household_counts = merged_df.groupby('household_id')['id_user'].count()\n",
    "household_categories = household_counts.apply(lambda x: 'Single' if x == 1 else 'Family')\n",
    "household_structure_counts = household_categories.value_counts()\n",
    "plt.figure(figsize=(6, 4))\n",
    "household_structure_counts.plot(kind='bar', color=['blue', 'orange'])\n",
    "plt.xlabel('Household Type')\n",
    "plt.ylabel('Count')\n",
    "plt.title('Most Common Household Structures')\n",
    "plt.grid()\n",
    "plt.show()"
   ]
  },
  {
   "cell_type": "markdown",
   "metadata": {},
   "source": [
    "# Verification rate"
   ]
  },
  {
   "cell_type": "code",
   "execution_count": 63,
   "metadata": {},
   "outputs": [
    {
     "name": "stdout",
     "output_type": "stream",
     "text": [
      "Verification Rate: 95.82%\n"
     ]
    }
   ],
   "source": [
    "verification_rate = (users_df['verified'].sum() / len(users_df)) * 100\n",
    "print(f\"Verification Rate: {verification_rate:.2f}%\")"
   ]
  },
  {
   "cell_type": "markdown",
   "metadata": {},
   "source": [
    "# Avg bottles per person"
   ]
  },
  {
   "cell_type": "code",
   "execution_count": 64,
   "metadata": {},
   "outputs": [
    {
     "name": "stdout",
     "output_type": "stream",
     "text": [
      "Average Bottles Per Person: 7.39\n"
     ]
    }
   ],
   "source": [
    "avg_bottles_per_person = household_df['bottle_balance'].sum() / len(users_df)\n",
    "print(f\"Average Bottles Per Person: {avg_bottles_per_person:.2f}\")"
   ]
  },
  {
   "cell_type": "markdown",
   "metadata": {},
   "source": [
    "# Do larger households consume more water?"
   ]
  },
  {
   "cell_type": "code",
   "execution_count": 65,
   "metadata": {},
   "outputs": [
    {
     "data": {
      "image/png": "[encoded data removed]",
      "text/plain": [
       "<Figure size 1000x500 with 1 Axes>"
      ]
     },
     "metadata": {},
     "output_type": "display_data"
    }
   ],
   "source": [
    "household_water_usage = merged_df.groupby('household_id').agg(\n",
    "    household_size=('id_user', 'count'),  # Count of users in household\n",
    "    total_bottles=('bottle_balance', 'sum')  # Total bottle usage\n",
    ")\n",
    "\n",
    "# Group by household size to find average water consumption per size\n",
    "household_avg_usage = household_water_usage.groupby('household_size')['total_bottles'].mean()\n",
    "\n",
    "# Plot bar chart for household size vs. average water consumption\n",
    "plt.figure(figsize=(10, 5))\n",
    "household_avg_usage.plot(kind='bar', color='blue')\n",
    "plt.xlabel('Household Size')\n",
    "plt.ylabel('Average Bottles Used')\n",
    "plt.title('Household Size vs Average Water Consumption')\n",
    "plt.grid(axis='y')\n",
    "plt.show()"
   ]
  }
 ],
 "metadata": {
  "kernelspec": {
   "display_name": "Python 3",
   "language": "python",
   "name": "python3"
  },
  "language_info": {
   "codemirror_mode": {
    "name": "ipython",
    "version": 3
   },
   "file_extension": ".py",
   "mimetype": "text/x-python",
   "name": "python",
   "nbconvert_exporter": "python",
   "pygments_lexer": "ipython3",
   "version": "3.12.6"
  }
 },
 "nbformat": 4,
 "nbformat_minor": 2
}
